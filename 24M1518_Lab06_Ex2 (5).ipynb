{
 "cells": [
  {
   "cell_type": "code",
   "execution_count": 8,
   "id": "53bd7975",
   "metadata": {},
   "outputs": [],
   "source": [
    "from pyomo.environ import *\n",
    "import itertools"
   ]
  },
  {
   "cell_type": "code",
   "execution_count": 9,
   "id": "1fe98a31",
   "metadata": {},
   "outputs": [],
   "source": [
    "# Initialize the model\n",
    "model = ConcreteModel()\n",
    "# Sets\n",
    "plants = [1, 2, 3]  # Factories\n",
    "centers = list(range(1, 13))  # Distribution centers\n",
    "scenarios = list(itertools.product(['L', 'H'], repeat=len(centers)))  # 2^12 scenarios\n",
    "# Data\n",
    "capacity = {1: 120, 2: 90, 3: 100}  # Plant capacities\n",
    "prod_cost = {1: 8, 2: 7, 3: 9}  # Production cost per unit\n",
    "sell_price = 20\n",
    "scrap_price = 5\n",
    "lost_sale_penalty = 7\n",
    "# Medium demand\n",
    "medium_demand = {1: 20, 2: 30, 3: 40, 4: 35, 5: 15, 6: 19, 7: 25, 8: 20, 9: 18, 10: 12, 11: 30, 12: 40}"
   ]
  },
  {
   "cell_type": "code",
   "execution_count": 10,
   "id": "5a640eb3",
   "metadata": {},
   "outputs": [],
   "source": [
    "# Generate demand scenarios\n",
    "scenario_prob = {}  # Probability of each scenario\n",
    "scenario_demand = {}  # Demand in each scenario\n",
    "total_capacity = sum(capacity.values())  # Total production capacity across plants\n",
    "high_demand_scenarios = 0  # Counter for scenarios where demand > capacity\n",
    "for scenario in scenarios:\n",
    "    prob = 1\n",
    "    demand = {}\n",
    "    total_demand = 0\n",
    "    for i, state in enumerate(scenario):\n",
    "        center = i + 1\n",
    "        if state == 'L':\n",
    "            demand[center] = 0.7 * medium_demand[center]\n",
    "            prob *= 0.5  # Probability of low demand\n",
    "        else :\n",
    "            demand[center] = 1.3 * medium_demand[center]\n",
    "            prob *= 0.5  # Probability of high demand\n",
    "#         else:\n",
    "#             demand[center] = medium_demand[center]\n",
    "#             prob *= 0.4  # Probability of medium demand\n",
    "        total_demand += demand[center]  # Sum up total demand in scenario\n",
    "\n",
    "    if total_demand > total_capacity:\n",
    "        high_demand_scenarios += 1  # Count scenarios exceeding capacity\n",
    "\n",
    "    scenario_prob[scenario] = prob\n",
    "    scenario_demand[scenario] = demand\n",
    "# Calculate fraction of high-demand scenarios\n",
    "fraction_high_demand = high_demand_scenarios / len(scenarios)"
   ]
  },
  {
   "cell_type": "code",
   "execution_count": 11,
   "id": "3bf1226e",
   "metadata": {},
   "outputs": [],
   "source": [
    "# Decision Variables\n",
    "model.x = Var(plants, within=NonNegativeReals)  # First-stage decision (production at plants)\n",
    "model.y = Var(plants, centers, scenarios, within=NonNegativeReals)  # Second-stage (shipments)\n",
    "model.S = Var(plants, scenarios, within=NonNegativeReals)  # Unsold bread\n",
    "model.l = Var(centers, scenarios, within=NonNegativeReals)  # Lost sales"
   ]
  },
  {
   "cell_type": "code",
   "execution_count": 12,
   "id": "21cea3d2",
   "metadata": {},
   "outputs": [],
   "source": [
    "# Objective: Maximize expected profit\n",
    "def objective_rule(m):\n",
    "    revenue = sum(\n",
    "        scenario_prob[s] * sell_price * sum(m.y[p, c, s] for p in plants for c in centers)\n",
    "        for s in scenarios\n",
    "    )\n",
    "    production_cost = sum(m.x[p] * prod_cost[p] for p in plants)\n",
    "    scrap_revenue = sum(\n",
    "        scenario_prob[s] * scrap_price * sum(m.S[p, s] for p in plants)\n",
    "        for s in scenarios\n",
    "    )\n",
    "    lost_sales_cost = sum(\n",
    "        scenario_prob[s] * lost_sale_penalty * sum(m.l[c, s] for c in centers)\n",
    "        for s in scenarios\n",
    "    )\n",
    "    return revenue + scrap_revenue - production_cost - lost_sales_cost\n",
    "model.obj = Objective(rule=objective_rule, sense=maximize)"
   ]
  },
  {
   "cell_type": "code",
   "execution_count": 14,
   "id": "0a7ddee0",
   "metadata": {},
   "outputs": [
    {
     "name": "stdout",
     "output_type": "stream",
     "text": [
      "WARNING: Implicitly replacing the Component attribute production_capacity\n",
      "(type=<class 'pyomo.core.base.constraint.IndexedConstraint'>) on block unknown\n",
      "with a new Component (type=<class\n",
      "'pyomo.core.base.constraint.IndexedConstraint'>). This is usually indicative\n",
      "of a modelling error. To avoid this warning, use block.del_component() and\n",
      "block.add_component().\n",
      "WARNING: Implicitly replacing the Component attribute balance (type=<class\n",
      "'pyomo.core.base.constraint.ConstraintList'>) on block unknown with a new\n",
      "Component (type=<class 'pyomo.core.base.constraint.ConstraintList'>). This is\n",
      "usually indicative of a modelling error. To avoid this warning, use\n",
      "block.del_component() and block.add_component().\n",
      "WARNING: Implicitly replacing the Component attribute demand (type=<class\n",
      "'pyomo.core.base.constraint.ConstraintList'>) on block unknown with a new\n",
      "Component (type=<class 'pyomo.core.base.constraint.ConstraintList'>). This is\n",
      "usually indicative of a modelling error. To avoid this warning, use\n",
      "block.del_component() and block.add_component().\n"
     ]
    }
   ],
   "source": [
    "# Production capacity constraints\n",
    "def production_capacity_rule(m, p):\n",
    "    return m.x[p] <= capacity[p]\n",
    "model.production_capacity = Constraint(plants, rule=production_capacity_rule)\n",
    "# Flow balance: What is produced must be used (either shipped or left unsold)\n",
    "def balance_rule(m, p, s):\n",
    "    return m.x[p] == sum(m.y[p, c, s] for c in centers) + m.S[p, s]\n",
    "model.balance = ConstraintList()\n",
    "for p in plants:\n",
    "    for s in scenarios:\n",
    "        model.balance.add(balance_rule(model, p, s))\n",
    "# Demand satisfaction constraints (shipments + lost sales must equal demand)\n",
    "def demand_rule(m, c, s):\n",
    "    return sum(m.y[p, c, s] for p in plants) + m.l[c, s] == scenario_demand[s][c]\n",
    "model.demand = ConstraintList()\n",
    "for c in centers:\n",
    "    for s in scenarios:\n",
    "        model.demand.add(demand_rule(model, c, s))"
   ]
  },
  {
   "cell_type": "code",
   "execution_count": 16,
   "id": "4442fad2",
   "metadata": {},
   "outputs": [
    {
     "name": "stdout",
     "output_type": "stream",
     "text": [
      "\n",
      "Fraction of scenarios where demand exceeds total capacity: 0.412109375\n",
      "\n",
      "Optimal Production Quantities:\n",
      "Plant 1: 120.00 units\n",
      "Plant 2: 90.00 units\n",
      "Plant 3: 100.00 units\n",
      "\n",
      "Expected Profit: 3432.32\n"
     ]
    }
   ],
   "source": [
    "# Solve the model\n",
    "solver = SolverFactory('glpk')\n",
    "solver.solve(model)\n",
    "# Display results\n",
    "print(\"\\nFraction of scenarios where demand exceeds total capacity:\", fraction_high_demand)\n",
    "print(\"\\nOptimal Production Quantities:\")\n",
    "for p in plants:\n",
    "    print(f\"Plant {p}: {model.x[p]():.2f} units\")\n",
    "print(\"\\nExpected Profit: {:.2f}\".format(model.obj()))"
   ]
  },
  {
   "cell_type": "code",
   "execution_count": null,
   "id": "d5a5bf84",
   "metadata": {},
   "outputs": [],
   "source": []
  }
 ],
 "metadata": {
  "kernelspec": {
   "display_name": "Python 3 (ipykernel)",
   "language": "python",
   "name": "python3"
  },
  "language_info": {
   "codemirror_mode": {
    "name": "ipython",
    "version": 3
   },
   "file_extension": ".py",
   "mimetype": "text/x-python",
   "name": "python",
   "nbconvert_exporter": "python",
   "pygments_lexer": "ipython3",
   "version": "3.9.13"
  }
 },
 "nbformat": 4,
 "nbformat_minor": 5
}
